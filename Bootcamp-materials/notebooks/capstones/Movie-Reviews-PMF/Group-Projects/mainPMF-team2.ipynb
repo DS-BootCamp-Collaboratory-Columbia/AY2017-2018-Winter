{
 "cells": [
  {
   "cell_type": "markdown",
   "metadata": {},
   "source": [
    "# Probabilistic Matrix Factorization \n",
    "## Introduction\n",
    "In this notebook, we implement probabilistic matrix factorization (PMF) on movie rating dataset.\n",
    "\n",
    "Matrix factorization is a method to decompose a matrix into multiplication of matrices (usually two matrices). A matrix can represent a dyadic data. Matrix factorization is a way to better understand the components (dyads), and use them in further tasks. The goal is to find those unknown matrices.\n",
    "\n",
    "Probabilistic matrix factorization (PMF) is a probabilistic extension of matrix factorization where unknown parameters are described with their probability distributions. Similar to matrix factorization, the goal of PMF is to learn embeddings from dyadic/relational data (each matrix entry is a dyad, e.g., user-item rating, document-word count, user-user link). If the matrix has missing values, by learning decomposition based on observed entries, missing values can be pre dicted. This technique is useful in variety of applications such as recommender systems/collaborative filtering, link prediction in social network, and so on. In this project, are going to use PMF in collaborating filtering. The goal of collab orative filtering is to infer user preferences for items given a large but incomplete collection of preferences for many users. If we let each row of the original matrix represent a user, and each column represent a product, we can interpret the entries of the matrix to be the rating given to a product by a user.\n",
    "\n",
    "By learning latent features for users and movies using the seen ratings, we are able to predict the ratings for the unseen entries. "
   ]
  },
  {
   "cell_type": "markdown",
   "metadata": {},
   "source": [
    "### Model \n",
    "For more clarification, we show the model in the context of movie ratings. Let $R$ be the matrix of ratings which is partially (and sparsely) filled by users' ratings for movies. Let us assume that there are $N$ users and $M$ movies in total. The goal is to find a decomposition for $R$ such that:\n",
    "$$R \\approx U^T V$$\n",
    "where $U$ is a $d\\times N$ matrix describing users and $V$ is a $d\\times M$ matrix describing movies. \n",
    "\n",
    "Figure below shows an illustration of this model where each column of $U$ and $V$ learn a representation for the users and movies respectively.\n",
    "\n",
    "<img src=\"matrix_fact.png\",style=\"max-width:100%; width: 50%\">\n",
    "\n",
    "\n",
    "Given feature vectors for $U_i$ user and $V_j$, the distribution of the corresponding rating is:"
   ]
  },
  {
   "cell_type": "markdown",
   "metadata": {},
   "source": [
    "$$R(i,j) \\sim N(U_i^TV_j , \\sigma^2)$$\n",
    "$$U_i \\sim N(0, \\sigma_u^2 I) ~~~~ V_j \\sim N(0, \\sigma_v^2 I)$$\n",
    "\n",
    "The graphical model of it is:\n",
    "\n",
    "<img src=\"graph-model.png\",height: 20>\n",
    "\n",
    "Our objective is to find $U$ and $V$ such that they have the maximum probabillity to generate seen ratings $R$. This method is called Maximum a Posteriori (MAP) estimation. Note that $\\lambda$ is a tuning parameter resulting in more stability. Let $D$ represent set of all observed data such that: $D~: ~\\{(i,j) ~| ~R(i,j)~is ~given\\}$. Then the objective is:\n",
    "\n",
    "$$\\underset{U,V}{\\max} ~ \\log p(U,V|R) $$\n",
    "$$\\underset{U,V}{\\max} ~ L(U,V)=-\\frac{1}{2\\sigma^2} \\sum_{(i,j)\\in D} {(R_{ij} - U_i^{\\intercal} V_j)}^2 - \\frac{\\lambda}{2} \\sum_{i=1}^{M} {||U_i||}^2 - \\frac{\\lambda}{2} \\sum_{j=1}^{N} {||V_j||}^2$$\n",
    "\n",
    "The optimization algorithm is as follows:\n",
    "\n",
    "- Initialize $U^{(0)}$ and $V^{(0)}$\n",
    "- For $t = 1:T$\n",
    "    - $U^{(t)}_i = {\\left[ \\lambda I + \\sum_{j:(i,j)\\in D} \\frac{1}{\\sigma^2} {V^{(t-1)}_j}^{\\intercal}V^{(t-1)}_j  \\right]}^{-1} \\left(\\sum_{j:(i,j)\\in D} \\frac{1}{\\sigma^2}R_{ij} ~ V^{(t-1)}_j \\right)$\n",
    "    - $V^{(t)}_j = {\\left[ \\lambda I + \\sum_{i:(i,j)\\in D} \\frac{1}{\\sigma^2} {U^{(t)}_i}^{\\intercal} U^{(t)}_i  \\right]}^{-1} \\left(\\sum_{i:(i,j)\\in D} \\frac{1}{\\sigma^2}R_{ij} ~ U^{(t)}_i \\right)\t\n",
    "$\n",
    "\n",
    "    - End for.\n",
    "    \n",
    "    \n",
    "Now, the first step is to import the data.    \n"
   ]
  },
  {
   "cell_type": "markdown",
   "metadata": {},
   "source": [
    "You need to load your data, and put it in a matrix called $R$. Make sure to convert the ratings into floats - not categorical variables. The goal for you is to complete the matrix and find the missing entries. To make calculations easier, create a new matrix with 3 columns. Put the row indices (user ids) in the first row, and column indices (movie ids) in second column, and let the third column show the ratings.\n",
    "Here is an implementation of it for MovieLens dataset."
   ]
  },
  {
   "cell_type": "code",
   "execution_count": 30,
   "metadata": {},
   "outputs": [],
   "source": [
    "## Load your data here...\n",
    "# example with MovieLens data:\n",
    "import numpy as np\n",
    "import random\n",
    "import pandas as pd\n",
    "prefer = []\n",
    "o = open('data/u.data.txt', 'r')\n",
    "for line in o.readlines():  \n",
    "    (userid, movieid, rating, ts) = line.split('\\t')  \n",
    "    uid = int(userid)\n",
    "    mid = int(movieid)\n",
    "    rat = float(rating)\n",
    "    prefer.append([uid, mid, rat])\n",
    "    #data = array(prefer)\n",
    "    \n",
    "o.close()\n",
    "#print(line)\n",
    "#print(prefer[-5:])"
   ]
  },
  {
   "cell_type": "code",
   "execution_count": 31,
   "metadata": {},
   "outputs": [
    {
     "name": "stdout",
     "output_type": "stream",
     "text": [
      "In this dataset, there are 943 users and 1682 movies\\objects.\n"
     ]
    }
   ],
   "source": [
    "data = array(prefer)\n",
    "N = len(unique(data[:,0])) # number of users\n",
    "M = len(unique(data[:,1])) # number of movies\n",
    "print(\"In this dataset, there are {} users and {} movies\\objects.\".format(N,M))"
   ]
  },
  {
   "cell_type": "code",
   "execution_count": 142,
   "metadata": {},
   "outputs": [
    {
     "name": "stdout",
     "output_type": "stream",
     "text": [
      "there are 100000 given ratings total.\n",
      "Here is the first 10 rows in my processesed data\n"
     ]
    },
    {
     "data": {
      "text/plain": [
       "array([[196., 242.,   3.],\n",
       "       [186., 302.,   3.],\n",
       "       [ 22., 377.,   1.],\n",
       "       [244.,  51.,   2.],\n",
       "       [166., 346.,   1.],\n",
       "       [298., 474.,   4.],\n",
       "       [115., 265.,   2.],\n",
       "       [253., 465.,   5.],\n",
       "       [305., 451.,   3.],\n",
       "       [  6.,  86.,   3.]])"
      ]
     },
     "execution_count": 142,
     "metadata": {},
     "output_type": "execute_result"
    }
   ],
   "source": [
    "print(\"there are {} given ratings total.\".format(len(data)))\n",
    "      \n",
    "print(\"Here is the first 10 rows in my processesed data\")\n",
    "data[:10]"
   ]
  },
  {
   "cell_type": "markdown",
   "metadata": {},
   "source": [
    "Now you need to run your algorithm. Note that at each sep, you need to update all of the movies' features as well as all of the users' features. You can set lambda = 0.1, and variances to be 1. Note that these parameter choices are up to you, and feel free to tune them the way you want. You can set the number of iterations to be 100."
   ]
  },
  {
   "cell_type": "code",
   "execution_count": null,
   "metadata": {},
   "outputs": [],
   "source": []
  },
  {
   "cell_type": "raw",
   "metadata": {},
   "source": []
  },
  {
   "cell_type": "code",
   "execution_count": 74,
   "metadata": {},
   "outputs": [
    {
     "name": "stdout",
     "output_type": "stream",
     "text": [
      "[[ 0.59540839  0.56073779 -1.28719171 ... -0.20603952 -1.06280355\n",
      "  -1.19800203]\n",
      " [-1.23444186 -0.4839017  -0.51358529 ... -1.21529391 -0.07156841\n",
      "  -1.2568771 ]\n",
      " [ 0.5449474   0.08393271 -2.18265959 ... -0.67143175  0.80125847\n",
      "  -0.59245604]\n",
      " [ 1.46276228  0.35933278  0.36978873 ...  1.43202382  0.73647167\n",
      "  -0.81903272]\n",
      " [-1.95092272 -0.62433419  0.06094896 ...  1.44434963 -2.1466248\n",
      "   0.08251723]]\n"
     ]
    }
   ],
   "source": [
    "## Initialize U and V randomly. Note that U should be d by N and V should be d by M.\n",
    "d = 5\n",
    "lam = 0.1\n",
    "U = np.random.normal(size=(d,N))\n",
    "V = np.random.normal(size=(d,M))\n",
    "print(U)\n",
    "# np.random.multivariate_normal"
   ]
  },
  {
   "cell_type": "markdown",
   "metadata": {},
   "source": [
    "To make the calculations easier, you should keep track of some values at each step. Note that to update vector for a user, you need to have access to all the movies rated by that user (the same for the movies; to update vector for a movie, you need the id of all of the users that have rated that movie.)\n",
    "Since these don't change, we suggest you to construct a dictionary for each user as key, and id of movies rated by that user to be the values (as a list). You should do the same for movies.\n",
    "These are only some suggestions, feel free to use any method that you like. :)"
   ]
  },
  {
   "cell_type": "code",
   "execution_count": 121,
   "metadata": {},
   "outputs": [
    {
     "name": "stdout",
     "output_type": "stream",
     "text": [
      "[(242.0, 3.0), (393.0, 4.0), (381.0, 4.0), (251.0, 3.0), (655.0, 5.0), (67.0, 5.0), (306.0, 4.0), (238.0, 4.0), (663.0, 5.0), (111.0, 4.0), (580.0, 2.0), (25.0, 4.0), (286.0, 5.0), (94.0, 3.0), (692.0, 5.0), (8.0, 5.0), (428.0, 4.0), (1118.0, 4.0), (70.0, 3.0), (66.0, 3.0), (257.0, 2.0), (108.0, 4.0), (202.0, 3.0), (340.0, 3.0), (287.0, 3.0), (116.0, 3.0), (382.0, 4.0), (285.0, 5.0), (1241.0, 3.0), (1007.0, 4.0), (411.0, 4.0), (153.0, 5.0), (13.0, 2.0), (762.0, 3.0), (173.0, 2.0), (1022.0, 4.0), (845.0, 4.0), (269.0, 3.0), (110.0, 1.0)]\n",
      "[(196.0, 4.0), (303.0, 4.0), (290.0, 3.0), (145.0, 5.0), (279.0, 1.0), (307.0, 3.0), (193.0, 4.0), (94.0, 3.0), (230.0, 3.0), (87.0, 4.0), (174.0, 4.0), (38.0, 5.0), (308.0, 4.0), (43.0, 4.0), (151.0, 2.0), (109.0, 4.0), (22.0, 4.0), (92.0, 3.0), (18.0, 3.0), (7.0, 4.0), (130.0, 5.0), (387.0, 2.0), (144.0, 4.0), (5.0, 2.0), (102.0, 3.0), (330.0, 4.0), (267.0, 3.0), (95.0, 5.0), (262.0, 2.0), (200.0, 4.0), (398.0, 5.0), (299.0, 2.0), (286.0, 4.0), (405.0, 4.0), (269.0, 1.0), (65.0, 4.0), (246.0, 3.0), (85.0, 4.0), (437.0, 3.0), (314.0, 4.0), (271.0, 4.0), (416.0, 4.0), (70.0, 4.0), (523.0, 5.0), (399.0, 4.0), (389.0, 2.0), (234.0, 2.0), (313.0, 4.0), (472.0, 3.0), (371.0, 2.0), (453.0, 3.0), (373.0, 4.0), (184.0, 4.0), (528.0, 2.0), (213.0, 3.0), (577.0, 4.0), (374.0, 4.0), (283.0, 4.0), (59.0, 2.0), (561.0, 2.0), (276.0, 4.0), (244.0, 3.0), (298.0, 4.0), (210.0, 3.0), (326.0, 4.0), (280.0, 4.0), (254.0, 3.0), (293.0, 3.0), (291.0, 3.0), (125.0, 4.0), (621.0, 3.0), (500.0, 3.0), (301.0, 3.0), (128.0, 4.0), (417.0, 4.0), (450.0, 4.0), (379.0, 4.0), (655.0, 2.0), (60.0, 4.0), (429.0, 3.0), (83.0, 5.0), (648.0, 4.0), (504.0, 3.0), (545.0, 4.0), (566.0, 2.0), (659.0, 3.0), (514.0, 3.0), (665.0, 3.0), (591.0, 4.0), (393.0, 3.0), (407.0, 2.0), (311.0, 4.0), (559.0, 2.0), (222.0, 4.0), (378.0, 3.0), (521.0, 3.0), (731.0, 5.0), (588.0, 4.0), (110.0, 3.0), (435.0, 2.0), (721.0, 5.0), (455.0, 3.0), (625.0, 4.0), (694.0, 3.0), (496.0, 1.0), (194.0, 2.0), (738.0, 3.0), (524.0, 3.0), (835.0, 5.0), (506.0, 3.0), (796.0, 4.0), (497.0, 4.0), (457.0, 3.0), (741.0, 2.0), (716.0, 3.0), (682.0, 4.0), (815.0, 4.0), (711.0, 4.0), (363.0, 4.0), (773.0, 2.0), (897.0, 4.0), (846.0, 3.0), (650.0, 3.0), (766.0, 3.0), (886.0, 3.0), (476.0, 4.0), (774.0, 1.0), (13.0, 3.0), (207.0, 4.0), (747.0, 2.0), (727.0, 3.0), (542.0, 3.0), (934.0, 2.0), (916.0, 2.0), (481.0, 3.0), (843.0, 2.0), (551.0, 5.0), (478.0, 4.0), (152.0, 5.0), (927.0, 5.0), (533.0, 4.0), (586.0, 3.0), (471.0, 5.0), (892.0, 4.0), (541.0, 3.0), (562.0, 2.0), (275.0, 3.0), (790.0, 2.0), (327.0, 3.0), (805.0, 3.0), (684.0, 4.0), (848.0, 5.0), (660.0, 2.0), (11.0, 4.0), (690.0, 4.0), (579.0, 4.0), (804.0, 3.0), (712.0, 3.0), (345.0, 3.0), (749.0, 5.0), (901.0, 5.0), (56.0, 4.0), (487.0, 4.0), (880.0, 3.0), (878.0, 3.0), (896.0, 3.0), (882.0, 4.0), (881.0, 4.0), (336.0, 3.0), (943.0, 2.0), (642.0, 5.0), (807.0, 4.0), (885.0, 3.0), (593.0, 4.0), (864.0, 3.0), (653.0, 2.0), (705.0, 4.0), (860.0, 2.0), (208.0, 4.0), (643.0, 4.0), (907.0, 5.0), (620.0, 5.0), (394.0, 4.0), (933.0, 2.0), (484.0, 1.0), (758.0, 4.0), (495.0, 5.0), (798.0, 3.0), (606.0, 4.0), (406.0, 4.0), (887.0, 4.0), (318.0, 5.0)]\n"
     ]
    }
   ],
   "source": [
    "###### you can construct two dictionaries one for the user and one for the movies here.\n",
    "## hint: you can use defaultdict\n",
    "\n",
    "from collections import defaultdict\n",
    "#\n",
    "u_dict = defaultdict(list)\n",
    "for i, j in zip(data[:,0],zip(data[:,1],data[:,2])):\n",
    "    u_dict[i].append(j)\n",
    "    \n",
    "m_dict = defaultdict(list)\n",
    "for i, j in zip(data[:,1],zip(data[:,0],data[:,2])):\n",
    "    m_dict[i].append(j)\n",
    "\n",
    "print(u_list[196])\n",
    "print(m_list[393])"
   ]
  },
  {
   "cell_type": "markdown",
   "metadata": {},
   "source": [
    "Again, to update feature vector of a user, you need to compute ${V^{(t-1)}_j}^{\\intercal}V^{(t-1)}_j$. We suggest you to ceate an array for all of the movies, and update these values at the end of each iteration. That way, you just need to look up the dictionary for the movie ids that a user has rated, and use those indices of your constructed vector.\n",
    "You need to do the same for the movies."
   ]
  },
  {
   "cell_type": "code",
   "execution_count": 66,
   "metadata": {},
   "outputs": [
    {
     "name": "stdout",
     "output_type": "stream",
     "text": [
      "[array([[ 3.12917166, -0.51676987,  0.63660511, -0.46919868,  2.55910722],\n",
      "       [-0.51676987,  0.08534242, -0.10513272,  0.07748624, -0.42262606],\n",
      "       [ 0.63660511, -0.10513272,  0.12951225, -0.09545474,  0.52063003],\n",
      "       [-0.46919868,  0.07748624, -0.09545474,  0.07035325, -0.38372127],\n",
      "       [ 2.55910722, -0.42262606,  0.52063003, -0.38372127,  2.09289565]])]\n"
     ]
    }
   ],
   "source": [
    "## Constructing arrays that will make your life easier in the implementation of the algorithm ....\n",
    "#print(V[:,:4])\n",
    "#print(V[:,1])\n",
    "\n",
    "def outer_col_list(inp_array,col=1):\n",
    "    \"\"\"returns a list of outer products of cols with themselves\n",
    "    \n",
    "    \"\"\"\n",
    "    outer_list = []\n",
    "    for i in arange(inp_array.shape[col]):\n",
    "        _v = array(inp_array[:,i])\n",
    "        outer_list.append(np.outer(_v.T,_v))\n",
    "    return outer_list\n",
    "\n",
    "#vtv = outer_col_list(V)\n",
    "#utu = outer_col_list(U)\n",
    "#print(utu[:1])\n",
    "\n"
   ]
  },
  {
   "cell_type": "code",
   "execution_count": 150,
   "metadata": {},
   "outputs": [
    {
     "name": "stdout",
     "output_type": "stream",
     "text": [
      "(5, 1682) 1682 (5, 5)\n",
      "(5, 1682) 1682 (5, 5)\n",
      "(5, 1682) 1682 (5, 5)\n",
      "(5, 1682) 1682 (5, 5)\n",
      "(5, 1682) 1682 (5, 5)\n",
      "(5, 1682) 1682 (5, 5)\n",
      "(5, 1682) 1682 (5, 5)\n",
      "(5, 1682) 1682 (5, 5)\n",
      "(5, 1682) 1682 (5, 5)\n",
      "(5, 1682) 1682 (5, 5)\n",
      "(5, 1682) 1682 (5, 5)\n",
      "(5, 1682) 1682 (5, 5)\n",
      "(5, 1682) 1682 (5, 5)\n",
      "(5, 1682) 1682 (5, 5)\n",
      "(5, 1682) 1682 (5, 5)\n",
      "(5, 1682) 1682 (5, 5)\n",
      "(5, 1682) 1682 (5, 5)\n",
      "(5, 1682) 1682 (5, 5)\n",
      "(5, 1682) 1682 (5, 5)\n",
      "(5, 1682) 1682 (5, 5)\n"
     ]
    }
   ],
   "source": [
    "from numpy.linalg import inv\n",
    "## Implementation of the algorithm ...\n",
    "\n",
    "# make my dxd identity matrix\n",
    "reg = lam*np.identity(5)\n",
    "#print(reg)\n",
    "\n",
    "def mykernel(reg,j_dict,matrix_list,matrix):\n",
    "    update = zeros(matrix.shape)\n",
    "    #print(matrix.shape)\n",
    "    for key,val in j_dict.items():\n",
    "        matrix_sum = zeros(matrix_list[0].shape)\n",
    "        vector_sum = zeros(matrix.shape[0])\n",
    "        for i in val:\n",
    "            matrix_sum = matrix_sum + matrix_list[int(i[0])-1]\n",
    "            vector_sum = vector_sum + i[1]*matrix[:,int(i[0]-1)]\n",
    "        update[:,int(key)-1] = dot(inv(reg + matrix_sum),vector_sum)        \n",
    "#            print(int(i[0]),len(matrix_list))\n",
    "\n",
    "    return array(update)\n",
    "\n",
    "\n",
    "v = V.copy()\n",
    "vtv = outer_col_list(v)\n",
    "for i in arange(20):\n",
    "    u = mykernel(reg,dict(m_dict),vtv,v)\n",
    "    utu = outer_col_list(u)\n",
    "    print(u.shape,len(utu),utu[0].shape)\n",
    "    v = mykernel(reg,dict(u_dict),utu,u)\n",
    "    vtv = outer_col_list(v)\n",
    "#    print(v.shape,vtv.shape)\n",
    "    \n"
   ]
  },
  {
   "cell_type": "code",
   "execution_count": 152,
   "metadata": {},
   "outputs": [
    {
     "name": "stdout",
     "output_type": "stream",
     "text": [
      "[[196. 242.   3.]\n",
      " [186. 302.   3.]\n",
      " [ 22. 377.   1.]]\n",
      "4.626951169160195\n",
      "3.278262899764008\n",
      "4.862928703224339\n"
     ]
    }
   ],
   "source": [
    "print(data[:3])\n",
    "print(np.inner(u[:,195].T,v[:,241]))\n",
    "print(np.inner(u[:,185].T,v[:,301]))\n",
    "print(np.inner(u[:,21].T,v[:,376]))"
   ]
  },
  {
   "cell_type": "markdown",
   "metadata": {},
   "source": [
    "Now that you found the optimal U and V matrices, you can predict for the missing ratings for users. For example, show 10 movies with the highest predicted ratings for 5 of the users of your choice.\n"
   ]
  },
  {
   "cell_type": "code",
   "execution_count": 28,
   "metadata": {
    "collapsed": true
   },
   "outputs": [],
   "source": [
    "## e.g.: If you were a movie recommending system, what would you recommend to user number 19 to watch that hasn't watched before?"
   ]
  },
  {
   "cell_type": "markdown",
   "metadata": {},
   "source": [
    "### Reference:\n",
    "1- Mnih, A., & Salakhutdinov, R. (2007). Probabilistic matrix factorization. In Advances in neural information processing systems (pp. 1257-1264). https://papers.nips.cc/paper/3208-probabilistic-matrix-factorization.pdf\n"
   ]
  },
  {
   "cell_type": "code",
   "execution_count": null,
   "metadata": {
    "collapsed": true
   },
   "outputs": [],
   "source": []
  }
 ],
 "metadata": {
  "kernelspec": {
   "display_name": "Python 3",
   "language": "python",
   "name": "python3"
  },
  "language_info": {
   "codemirror_mode": {
    "name": "ipython",
    "version": 3
   },
   "file_extension": ".py",
   "mimetype": "text/x-python",
   "name": "python",
   "nbconvert_exporter": "python",
   "pygments_lexer": "ipython3",
   "version": "3.6.4"
  }
 },
 "nbformat": 4,
 "nbformat_minor": 2
}
