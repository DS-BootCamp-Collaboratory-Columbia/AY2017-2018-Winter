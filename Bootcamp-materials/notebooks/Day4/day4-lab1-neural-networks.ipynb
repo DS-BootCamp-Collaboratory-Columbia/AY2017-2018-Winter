{
 "cells": [
  {
   "cell_type": "markdown",
   "metadata": {},
   "source": [
    "# Neural Networks"
   ]
  },
  {
   "cell_type": "code",
   "execution_count": 1,
   "metadata": {},
   "outputs": [],
   "source": [
    "import numpy as np\n",
    "import matplotlib.pyplot as plt\n",
    "%matplotlib inline"
   ]
  },
  {
   "cell_type": "code",
   "execution_count": 2,
   "metadata": {},
   "outputs": [
    {
     "data": {
      "text/plain": [
       "['',\n",
       " '/Users/wendy9217/anaconda/lib/python35.zip',\n",
       " '/Users/wendy9217/anaconda/lib/python3.5',\n",
       " '/Users/wendy9217/anaconda/lib/python3.5/plat-darwin',\n",
       " '/Users/wendy9217/anaconda/lib/python3.5/lib-dynload',\n",
       " '/Users/wendy9217/anaconda/lib/python3.5/site-packages',\n",
       " '/Users/wendy9217/anaconda/lib/python3.5/site-packages/Sphinx-1.4.1-py3.5.egg',\n",
       " '/Users/wendy9217/anaconda/lib/python3.5/site-packages/aeosa',\n",
       " '/Users/wendy9217/anaconda/lib/python3.5/site-packages/six-1.10.0-py3.5.egg',\n",
       " '/Users/wendy9217/anaconda/lib/python3.5/site-packages/IPython/extensions',\n",
       " '/Users/wendy9217/.ipython']"
      ]
     },
     "execution_count": 2,
     "metadata": {},
     "output_type": "execute_result"
    }
   ],
   "source": [
    "import sys\n",
    "sys.path"
   ]
  },
  {
   "cell_type": "markdown",
   "metadata": {},
   "source": [
    "## Neural Networks with scikit-learn\n",
    "There is a basic implementation of neural networks in scikit-learn than you can use for prototyping and getting familiar with the concepts. Because it doesn't have GPU support, it's not really appropriate for larger applications.\n",
    "\n",
    "Neural networks are implemented in the ``MLPClassifier`` and ``MLPRegressor`` classes in the ``sklearn.neural_networks`` module.\n",
    "There are two standard solvers implemented: ``'adam'`` (the default) and ``'l-bfgs'``. ``'l-bfgs'`` might work better on very small toy datasets."
   ]
  },
  {
   "cell_type": "markdown",
   "metadata": {},
   "source": [
    "### Task 1\n",
    "Create a synthetic \"two moons\" dataset, and visualize the decision boundary when varying the number of hidden units, the non-linearity, and the random state.\n",
    "What do you notice?"
   ]
  },
  {
   "cell_type": "code",
   "execution_count": 3,
   "metadata": {},
   "outputs": [],
   "source": [
    "def plot_2d_classification(classifier, X, ax=None):                                       \n",
    "                                                                                                            \n",
    "    eps = X.std() / 2.\n",
    "    if ax is None:\n",
    "        ax = plt.gca()                                                                                                           \n",
    "    \n",
    "    # create a dense grid of values to evaluate the classifier\n",
    "    x_min, x_max = X[:, 0].min() - eps, X[:, 0].max() + eps                                                                      \n",
    "    y_min, y_max = X[:, 1].min() - eps, X[:, 1].max() + eps                                                                      \n",
    "    xx = np.linspace(x_min, x_max, 1000)                                                                                         \n",
    "    yy = np.linspace(y_min, y_max, 1000)                                                                                         \n",
    "    X1, X2 = np.meshgrid(xx, yy)                                                                                                 \n",
    "    X_grid = np.c_[X1.ravel(), X2.ravel()]\n",
    "    # evaluate the classifier on the grid\n",
    "    decision_values = classifier.predict(X_grid)\n",
    "    # show the classification results:\n",
    "    ax.imshow(decision_values.reshape(X1.shape), extent=(x_min, x_max,                                                           \n",
    "                                                       y_min, y_max),                                                          \n",
    "            aspect='auto', origin='lower', alpha=.5)                                                               \n",
    "    ax.set_xlim(x_min, x_max)                                                                                                    \n",
    "    ax.set_ylim(y_min, y_max)"
   ]
  },
  {
   "cell_type": "code",
   "execution_count": 4,
   "metadata": {},
   "outputs": [
    {
     "data": {
      "text/plain": [
       "<matplotlib.collections.PathCollection at 0x10f762e10>"
      ]
     },
     "execution_count": 4,
     "metadata": {},
     "output_type": "execute_result"
    },
    {
     "data": {
      "image/png": "[encoded data removed]",
      "text/plain": [
       "<matplotlib.figure.Figure at 0x1189c18d0>"
      ]
     },
     "metadata": {},
     "output_type": "display_data"
    }
   ],
   "source": [
    "from sklearn.neural_network import MLPClassifier\n",
    "from sklearn.datasets import make_moons\n",
    "from sklearn.model_selection import train_test_split\n",
    "\n",
    "X, y = make_moons(n_samples=100, noise=0.25, random_state=3)\n",
    "\n",
    "X_train, X_test, y_train, y_test = train_test_split(X, y, stratify=y, random_state=42)\n",
    "\n",
    "mlp = MLPClassifier(solver='lbfgs', hidden_layer_sizes=(10,), random_state=0).fit(X_train, y_train)\n",
    "# todo: create subplots with multiple random states, different non-linearities and different numbers of hidden units\n",
    "plot_2d_classification(mlp, X)\n",
    "plt.scatter(X_train[:, 0], X_train[:, 1], c=y_train, s=60, edgecolor='k')"
   ]
  },
  {
   "cell_type": "markdown",
   "metadata": {},
   "source": [
    "### Task 2\n",
    "Apply ``MLPRegressor`` to the boston housing dataset. Does it do better or worse than Ridge (yesterday).\n",
    "\n",
    "Try the model with and without scaling the data."
   ]
  },
  {
   "cell_type": "code",
   "execution_count": 5,
   "metadata": {},
   "outputs": [],
   "source": [
    "from sklearn.datasets import load_boston\n",
    "from sklearn.model_selection import train_test_split\n",
    "\n",
    "boston = load_boston()\n",
    "X_train, X_test, y_train, y_test = train_test_split(boston.data, boston.target, random_state=0)\n",
    "\n",
    "# ... solution here"
   ]
  },
  {
   "cell_type": "code",
   "execution_count": 6,
   "metadata": {},
   "outputs": [
    {
     "data": {
      "text/plain": [
       "[<matplotlib.lines.Line2D at 0x12ddc9048>]"
      ]
     },
     "execution_count": 6,
     "metadata": {},
     "output_type": "execute_result"
    },
    {
     "data": {
      "image/png": "[encoded data removed]",
      "text/plain": [
       "<matplotlib.figure.Figure at 0x1189d3470>"
      ]
     },
     "metadata": {},
     "output_type": "display_data"
    }
   ],
   "source": [
    "rng = np.random.RandomState(0)\n",
    "x = np.sort(rng.uniform(size=100))\n",
    "y = np.sin(10 * x) + 5 * x + np.random.normal(0, .3, size=100)\n",
    "plt.plot(x, y, 'o')"
   ]
  },
  {
   "cell_type": "code",
   "execution_count": 7,
   "metadata": {},
   "outputs": [],
   "source": [
    "line = np.linspace(0, 1, 100)\n",
    "X = x.reshape(-1, 1)"
   ]
  },
  {
   "cell_type": "code",
   "execution_count": 8,
   "metadata": {},
   "outputs": [],
   "source": [
    "from sklearn.neural_network import MLPRegressor\n",
    "mlp_relu = MLPRegressor(solver=\"lbfgs\").fit(X, y)\n",
    "mlp_tanh = MLPRegressor(solver=\"lbfgs\", activation='tanh').fit(X, y)"
   ]
  },
  {
   "cell_type": "code",
   "execution_count": 9,
   "metadata": {},
   "outputs": [
    {
     "data": {
      "text/plain": [
       "<matplotlib.legend.Legend at 0x12deec588>"
      ]
     },
     "execution_count": 9,
     "metadata": {},
     "output_type": "execute_result"
    },
    {
     "data": {
      "image/png": "[encoded data removed]",
      "text/plain": [
       "<matplotlib.figure.Figure at 0x1181a40f0>"
      ]
     },
     "metadata": {},
     "output_type": "display_data"
    }
   ],
   "source": [
    "plt.plot(x, y, 'o')\n",
    "plt.plot(line, mlp_relu.predict(line.reshape(-1, 1)), label=\"relu\")\n",
    "plt.plot(line, mlp_tanh.predict(line.reshape(-1, 1)), label=\"tanh\")\n",
    "plt.legend()"
   ]
  },
  {
   "cell_type": "code",
   "execution_count": 10,
   "metadata": {},
   "outputs": [],
   "source": [
    "from sklearn.datasets import load_digits\n",
    "digits = load_digits()\n",
    "X_train, X_test, y_train, y_test = train_test_split(\n",
    "    digits.data / 16., digits.target, stratify=digits.target, random_state=0)"
   ]
  },
  {
   "cell_type": "code",
   "execution_count": 11,
   "metadata": {},
   "outputs": [
    {
     "name": "stdout",
     "output_type": "stream",
     "text": [
      "1.0\n",
      "0.98\n"
     ]
    }
   ],
   "source": [
    "mlp = MLPClassifier(max_iter=1000, random_state=0).fit(X_train, y_train)\n",
    "print(mlp.score(X_train, y_train))\n",
    "print(mlp.score(X_test, y_test))"
   ]
  },
  {
   "cell_type": "markdown",
   "metadata": {},
   "source": [
    "## Keras\n",
    "Now let's work with the much more flexible and efficient Keras library (which is using TensorFlow in the backend)\n",
    "A simple way to work with keras is to build up models using the ``Sequential`` class.\n",
    "\n",
    "The model below corresponds to mulinomial logistic regression. Run it on the ``digits`` dataset.\n"
   ]
  },
  {
   "cell_type": "code",
   "execution_count": 12,
   "metadata": {},
   "outputs": [
    {
     "name": "stderr",
     "output_type": "stream",
     "text": [
      "Using TensorFlow backend.\n"
     ]
    }
   ],
   "source": [
    "from sklearn.datasets import load_digits\n",
    "digits = load_digits()\n",
    "# We divide the data by 16 to make sure it's on a reasonable scale (between zero and one)\n",
    "X_train, X_test, y_train, y_test = train_test_split(digits.data / 16., digits.target, random_state=0)\n",
    "\n",
    "import keras\n",
    "num_classes = 10\n",
    "# convert class vectors to binary class matrices\n",
    "y_train = keras.utils.to_categorical(y_train, num_classes)\n",
    "y_test = keras.utils.to_categorical(y_test, num_classes)"
   ]
  },
  {
   "cell_type": "code",
   "execution_count": 13,
   "metadata": {},
   "outputs": [],
   "source": [
    "from keras.models import Sequential\n",
    "from keras.layers import Dense, Activation\n",
    "\n",
    "model = Sequential([\n",
    "    Dense(10, input_shape=(64,)),\n",
    "    Activation('softmax'),\n",
    "])"
   ]
  },
  {
   "cell_type": "code",
   "execution_count": 14,
   "metadata": {},
   "outputs": [],
   "source": [
    "model.compile(\"adam\", \"categorical_crossentropy\", metrics=['accuracy'])"
   ]
  },
  {
   "cell_type": "code",
   "execution_count": 15,
   "metadata": {},
   "outputs": [
    {
     "name": "stdout",
     "output_type": "stream",
     "text": [
      "_________________________________________________________________\n",
      "Layer (type)                 Output Shape              Param #   \n",
      "=================================================================\n",
      "dense_1 (Dense)              (None, 10)                650       \n",
      "_________________________________________________________________\n",
      "activation_1 (Activation)    (None, 10)                0         \n",
      "=================================================================\n",
      "Total params: 650\n",
      "Trainable params: 650\n",
      "Non-trainable params: 0\n",
      "_________________________________________________________________\n"
     ]
    }
   ],
   "source": [
    "model.summary()"
   ]
  },
  {
   "cell_type": "markdown",
   "metadata": {},
   "source": [
    "In keras, the ``fit`` method takes options like the number of epochs (iterations) to run, and whether to use a validation set for early stopping."
   ]
  },
  {
   "cell_type": "code",
   "execution_count": 27,
   "metadata": {},
   "outputs": [
    {
     "name": "stdout",
     "output_type": "stream",
     "text": [
      "Train on 1212 samples, validate on 135 samples\n",
      "Epoch 1/10\n",
      "1212/1212 [==============================] - 0s 70us/step - loss: 1.0905 - acc: 0.8738 - val_loss: 1.0638 - val_acc: 0.8741\n",
      "Epoch 2/10\n",
      "1212/1212 [==============================] - 0s 68us/step - loss: 1.0240 - acc: 0.8804 - val_loss: 0.9997 - val_acc: 0.8889\n",
      "Epoch 3/10\n",
      "1212/1212 [==============================] - 0s 68us/step - loss: 0.9641 - acc: 0.8952 - val_loss: 0.9443 - val_acc: 0.8963\n",
      "Epoch 4/10\n",
      "1212/1212 [==============================] - 0s 68us/step - loss: 0.9110 - acc: 0.8969 - val_loss: 0.8889 - val_acc: 0.8963\n",
      "Epoch 5/10\n",
      "1212/1212 [==============================] - 0s 65us/step - loss: 0.8627 - acc: 0.9059 - val_loss: 0.8431 - val_acc: 0.9111\n",
      "Epoch 6/10\n",
      "1212/1212 [==============================] - 0s 65us/step - loss: 0.8194 - acc: 0.9117 - val_loss: 0.8007 - val_acc: 0.9111\n",
      "Epoch 7/10\n",
      "1212/1212 [==============================] - 0s 66us/step - loss: 0.7803 - acc: 0.9134 - val_loss: 0.7621 - val_acc: 0.9111\n",
      "Epoch 8/10\n",
      "1212/1212 [==============================] - 0s 65us/step - loss: 0.7435 - acc: 0.9167 - val_loss: 0.7287 - val_acc: 0.9111\n",
      "Epoch 9/10\n",
      "1212/1212 [==============================] - 0s 69us/step - loss: 0.7108 - acc: 0.9167 - val_loss: 0.6955 - val_acc: 0.9111\n",
      "Epoch 10/10\n",
      "1212/1212 [==============================] - 0s 68us/step - loss: 0.6818 - acc: 0.9183 - val_loss: 0.6672 - val_acc: 0.9259\n"
     ]
    }
   ],
   "source": [
    "history_callback = model.fit(X_train, y_train, epochs=10, verbose=1, validation_split=.1)"
   ]
  },
  {
   "cell_type": "code",
   "execution_count": 28,
   "metadata": {},
   "outputs": [
    {
     "name": "stdout",
     "output_type": "stream",
     "text": [
      "Test loss: 0.694\n",
      "Test Accuracy: 0.900\n"
     ]
    }
   ],
   "source": [
    "score = model.evaluate(X_test, y_test, verbose=0)\n",
    "print(\"Test loss: {:.3f}\".format(score[0]))\n",
    "print(\"Test Accuracy: {:.3f}\".format(score[1]))"
   ]
  },
  {
   "cell_type": "markdown",
   "metadata": {},
   "source": [
    "Here is a nice way to visualize the history of training the model:"
   ]
  },
  {
   "cell_type": "code",
   "execution_count": 29,
   "metadata": {},
   "outputs": [],
   "source": [
    "def plot_history(logger):\n",
    "    df = pd.DataFrame(logger.history)\n",
    "    df[['acc', 'val_acc']].plot()\n",
    "    plt.ylabel(\"accuracy\")\n",
    "    df[['loss', 'val_loss']].plot(linestyle='--', ax=plt.twinx())\n",
    "    plt.ylabel(\"loss\")"
   ]
  },
  {
   "cell_type": "code",
   "execution_count": 30,
   "metadata": {},
   "outputs": [
    {
     "data": {
      "text/plain": [
       "<matplotlib.text.Text at 0x1210f7208>"
      ]
     },
     "execution_count": 30,
     "metadata": {},
     "output_type": "execute_result"
    },
    {
     "data": {
      "image/png": "[encoded data removed]",
      "text/plain": [
       "<matplotlib.figure.Figure at 0x12e270a20>"
      ]
     },
     "metadata": {},
     "output_type": "display_data"
    }
   ],
   "source": [
    "import pandas as pd\n",
    "df = pd.DataFrame(history_callback.history)\n",
    "df[['acc', 'val_acc']].plot()\n",
    "plt.ylabel(\"accuracy\")\n",
    "df[['loss', 'val_loss']].plot(linestyle='--', ax=plt.twinx())\n",
    "plt.ylabel(\"loss\")"
   ]
  },
  {
   "cell_type": "markdown",
   "metadata": {},
   "source": [
    "### Task\n",
    "Add an additional hidden layer with a ``relu`` non-linearity and fit the new model (``Dense(20, activation='relu')``. Experiment with different layer sizes and different numbers of additional layers."
   ]
  }
 ],
 "metadata": {
  "anaconda-cloud": {},
  "kernelspec": {
   "display_name": "Python [Root]",
   "language": "python",
   "name": "Python [Root]"
  },
  "language_info": {
   "codemirror_mode": {
    "name": "ipython",
    "version": 3
   },
   "file_extension": ".py",
   "mimetype": "text/x-python",
   "name": "python",
   "nbconvert_exporter": "python",
   "pygments_lexer": "ipython3",
   "version": "3.5.4"
  }
 },
 "nbformat": 4,
 "nbformat_minor": 2
}
