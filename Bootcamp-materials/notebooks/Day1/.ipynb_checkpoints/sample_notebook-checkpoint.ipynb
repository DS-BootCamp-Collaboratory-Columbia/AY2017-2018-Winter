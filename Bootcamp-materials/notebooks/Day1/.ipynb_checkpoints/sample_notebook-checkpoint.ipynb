{
 "cells": [
  {
   "cell_type": "markdown",
   "metadata": {},
   "source": [
    "## Welcome!\n",
    "\n",
    "Welcome to the 2nd winter [Collaboratory](http://collaboratory.columbia.edu/) **Data Science Bootcamp** for Columbia University PhD students and postdoctoral scholars. \n",
    "\n",
    "In this course, we will cover _selected_ basic and advanced data science and machine learning techniques, with a focus on `Python` skills. It includes online learning material, introductory lectures, hands on laboratory experiences, and a capstone project.\n",
    "\n",
    "The Data Science Bootcamp is jointly founded by Columbia University's Data Science Institute and Columbia Entrepreneurship. The Collaboratory@Columbia is a university-wide program dedicated to supporting collaborative curricula innovations designed to ensure that all Columbia University students receive the education and training that they need to succeed in today’s data rich world.\n",
    "\n",
    "All of the materials developed in this bootcamp are property of Columbia University. Please do not redistribute!\n",
    "\n",
    "# Sample Script\n",
    "\n",
    "In the course, we will work with ipython3 notebooks. This file is a sample notebook whose purpose is to verify that you are able to load all required python packages.\n",
    "\n",
    "Each line in the code below imports a particular python package. Run all of them and verify that you are able to execute these lines without errors. If any of the lines gives an execution error, then there is a problem with the corresponding package. Try to resolve the error on your own or search for a solution online. For additional help please see us before the start of the bootcamp on Monday morning at 9am when we will be offering support to participants that still have issues with setting up their computers.\n",
    "\n",
    "If you can run the lines below without any errors, congratulations! \n",
    "You are now ready to attend the lab sessions. Please do not forget to prepare before each session by going over the assigned videos and reading material. You should watch all the videos corresponding to each day _before_ attending the session on that day."
   ]
  },
  {
   "cell_type": "code",
   "execution_count": null,
   "metadata": {
    "collapsed": true
   },
   "outputs": [],
   "source": [
    "import numpy"
   ]
  },
  {
   "cell_type": "code",
   "execution_count": null,
   "metadata": {
    "collapsed": true
   },
   "outputs": [],
   "source": [
    "import scipy"
   ]
  },
  {
   "cell_type": "code",
   "execution_count": null,
   "metadata": {
    "collapsed": true
   },
   "outputs": [],
   "source": [
    "import matplotlib"
   ]
  },
  {
   "cell_type": "code",
   "execution_count": null,
   "metadata": {
    "collapsed": true
   },
   "outputs": [],
   "source": [
    "import sklearn"
   ]
  },
  {
   "cell_type": "code",
   "execution_count": null,
   "metadata": {
    "collapsed": true
   },
   "outputs": [],
   "source": [
    "import pandas"
   ]
  },
  {
   "cell_type": "code",
   "execution_count": null,
   "metadata": {
    "collapsed": true
   },
   "outputs": [],
   "source": [
    "import nltk"
   ]
  },
  {
   "cell_type": "code",
   "execution_count": null,
   "metadata": {
    "collapsed": true
   },
   "outputs": [],
   "source": [
    "import itertools"
   ]
  },
  {
   "cell_type": "code",
   "execution_count": null,
   "metadata": {
    "collapsed": true
   },
   "outputs": [],
   "source": [
    "import gensim"
   ]
  },
  {
   "cell_type": "code",
   "execution_count": null,
   "metadata": {
    "collapsed": true
   },
   "outputs": [],
   "source": [
    "import seaborn"
   ]
  },
  {
   "cell_type": "code",
   "execution_count": null,
   "metadata": {
    "collapsed": true
   },
   "outputs": [],
   "source": [
    "import tensorflow"
   ]
  }
 ],
 "metadata": {
  "anaconda-cloud": {},
  "kernelspec": {
   "display_name": "Python [conda root]",
   "language": "python",
   "name": "conda-root-py"
  },
  "language_info": {
   "codemirror_mode": {
    "name": "ipython",
    "version": 2
   },
   "file_extension": ".py",
   "mimetype": "text/x-python",
   "name": "python",
   "nbconvert_exporter": "python",
   "pygments_lexer": "ipython2",
   "version": "2.7.13"
  }
 },
 "nbformat": 4,
 "nbformat_minor": 2
}
