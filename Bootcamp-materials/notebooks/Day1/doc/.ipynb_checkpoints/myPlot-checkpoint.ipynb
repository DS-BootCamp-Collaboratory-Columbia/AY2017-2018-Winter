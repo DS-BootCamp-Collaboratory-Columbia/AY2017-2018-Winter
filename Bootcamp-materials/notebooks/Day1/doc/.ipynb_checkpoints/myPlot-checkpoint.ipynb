{
 "cells": [
  {
   "cell_type": "code",
   "execution_count": null,
   "metadata": {},
   "outputs": [],
   "source": [
    "def sentLenEmoPlot(InDf, InTerm, InPresident):\n",
    "    import numpy as np\n",
    "    import pylab as pl\n",
    "    from matplotlib import colors\n",
    "    from math import sqrt\n",
    "    from matplotlib import collections as mc\n",
    "\n",
    "    col_use={\"zero\":\"lightgray\",\n",
    "             \"anger\":\"#ee0000\",\n",
    "             \"anticipation\":\"#ffb90f\",\n",
    "             \"disgust\":\"#66cd00\",\n",
    "             \"fear\":\"blueviolet\",\n",
    "             \"joy\":\"#eead0e\",\n",
    "             \"sadness\":\"#1874cd\", \n",
    "             \"surprise\":\"#ffb90f\",\n",
    "             \"trust\":\"#ffb90f\",\n",
    "             \"negative\":\"black\",\n",
    "             \"positive\":\"#eead0e\"}\n",
    "    \n",
    "    InDf[\"top_emotion\"] = InDf.loc[:,'anger':'trust'].idxmax(axis=1)\n",
    "    InDf[\"top_emotion_value\"] = InDf.loc[:,'anger':'trust'].max(axis=1)\n",
    "    InDf.loc[InDf[\"top_emotion_value\"] < 0.05, \"top_emotion\"] = \"zero\"\n",
    "    InDf.loc[InDf[\"top_emotion_value\"] < 0.05, \"top_emotion_value\"] = 1\n",
    "    \n",
    "    tempDf = InDf.loc[(InDf[\"president\"]==InPresident)&(InDf[\"term\"]==InTerm)]\n",
    "    \n",
    "    pt_col_use = []\n",
    "    lines = []\n",
    "    \n",
    "    for i in tempDf.index:\n",
    "        pt_col_use.append(make_rgb_transparent(col_use[tempDf.at[i,\"top_emotion\"]],\n",
    "                         \"white\",\n",
    "                         sqrt(sqrt(tempDf.at[i,\"top_emotion_value\"]))))\n",
    "        lines.append([(i,0),(i,tempDf.at[i,\"word_count\"])])\n",
    "\n",
    "    %matplotlib inline\n",
    "    lc = mc.LineCollection(lines, colors=pt_col_use, linewidths=min(5,300/len(tempDf.index)))\n",
    "    fig, ax = pl.subplots() #figsize=(15, 6)\n",
    "    ax.add_collection(lc)\n",
    "    ax.autoscale()\n",
    "    ax.axis('off')\n",
    "    plt.title(InPresident, fontsize=30)\n",
    "    plt.tight_layout()\n",
    "    plt.show()"
   ]
  }
 ],
 "metadata": {
  "kernelspec": {
   "display_name": "Python [Root]",
   "language": "python",
   "name": "Python [Root]"
  },
  "language_info": {
   "codemirror_mode": {
    "name": "ipython",
    "version": 3
   },
   "file_extension": ".py",
   "mimetype": "text/x-python",
   "name": "python",
   "nbconvert_exporter": "python",
   "pygments_lexer": "ipython3",
   "version": "3.5.4"
  }
 },
 "nbformat": 4,
 "nbformat_minor": 2
}
